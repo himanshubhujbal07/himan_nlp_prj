{
 "cells": [
  {
   "cell_type": "code",
   "execution_count": 4,
   "metadata": {},
   "outputs": [
    {
     "name": "stderr",
     "output_type": "stream",
     "text": [
      "[nltk_data] Downloading package punkt to C:\\Users\\himanshu_bhujbal.CIQ\n",
      "[nltk_data]     HYD\\AppData\\Roaming\\nltk_data...\n",
      "[nltk_data]   Package punkt is already up-to-date!\n",
      "[nltk_data] Downloading package stopwords to C:\\Users\\himanshu_bhujbal\n",
      "[nltk_data]     .CIQHYD\\AppData\\Roaming\\nltk_data...\n",
      "[nltk_data]   Package stopwords is already up-to-date!\n"
     ]
    }
   ],
   "source": [
    "import glob\n",
    "import pandas as pd\n",
    "import io\n",
    "from pdfminer.converter import TextConverter\n",
    "from pdfminer.pdfinterp import PDFPageInterpreter\n",
    "from pdfminer.pdfinterp import PDFResourceManager\n",
    "from pdfminer.pdfpage import PDFPage\n",
    "from nltk.corpus import stopwords\n",
    "from nltk.tokenize import word_tokenize\n",
    "import nltk\n",
    "nltk.download('punkt')\n",
    "nltk.download('stopwords')\n",
    "from nltk.probability import FreqDist\n",
    "import sys\n",
    "import codecs\n",
    "import nltk\n",
    "from nltk.corpus import stopwords"
   ]
  },
  {
   "cell_type": "code",
   "execution_count": 5,
   "metadata": {},
   "outputs": [],
   "source": [
    "\n",
    "\n",
    "pdf_dir = \"Word_tokenizer\\\\PDF_file\" #enter the path where pdf profile are kept\n",
    "\n",
    "def extract_text_from_pdf(pdf_path):\n",
    "    resource_manager = PDFResourceManager()\n",
    "    fake_file_handle = io.StringIO()\n",
    "    converter = TextConverter(resource_manager, fake_file_handle)\n",
    "    page_interpreter = PDFPageInterpreter(resource_manager, converter)\n",
    "\n",
    "    with open(pdf_path, 'rb') as fh:\n",
    "        for page in PDFPage.get_pages(fh, \n",
    "                                      caching=True,\n",
    "                                      check_extractable=True):\n",
    "            page_interpreter.process_page(page)\n",
    "\n",
    "        text = fake_file_handle.getvalue()\n",
    "\n",
    "    # close open handles\n",
    "    converter.close()\n",
    "    fake_file_handle.close()\n",
    "\n",
    "    if text:\n",
    "        return text\n",
    "        print(file)\n",
    "   \n",
    "\n",
    "\n",
    "#this for loop is to extract all the data form PDF and save it into a variable and then append it into a csv    \n",
    "for file in glob.glob(\"%s/*.pdf\" % pdf_dir): # this line of code is looking for pdf file in the given path\n",
    "     if __name__ == '__main__':        \n",
    "        df2 = extract_text_from_pdf(file)\n",
    "        f = open(\"Summary_of_profile.csv\", \"a\")\n",
    "        f.write(df2)\n",
    "        f.close()\n",
    "    "
   ]
  },
  {
   "cell_type": "code",
   "execution_count": 8,
   "metadata": {},
   "outputs": [],
   "source": [
    "import csv\n",
    "\n",
    "\n",
    "with open('Summary_of_profile.csv', 'r') as file:\n",
    "    reader = csv.reader(file, delimiter = ' ')\n",
    "    \n",
    "    for row in reader:\n",
    "        df2 = str(row)\n"
   ]
  },
  {
   "cell_type": "code",
   "execution_count": 13,
   "metadata": {},
   "outputs": [],
   "source": [
    "from nltk.probability import FreqDist\n",
    "import sys\n",
    "import codecs\n",
    "import nltk\n",
    "from nltk.corpus import stopwords\n",
    "from nltk.tokenize import word_tokenize\n",
    "\n",
    "#this function is to tokenize the file\n",
    "def tokenize(obj):\n",
    "    if obj is None:\n",
    "        return None\n",
    "    elif isinstance(obj, str): \n",
    "        return word_tokenize(obj)\n",
    "    elif isinstance(obj, list):\n",
    "        return [tokenize(i) for i in obj]\n",
    "    else:\n",
    "        return obj \n",
    "    \n",
    "\n",
    "ztokenizer = nltk.RegexpTokenizer(r\"\\w+\")\n",
    "text_token = ztokenizer.tokenize(df2)\n",
    "\n",
    "\n",
    "# convert to lower case\n",
    "tokens = [w.lower() for w in text_token]\n",
    "\n",
    "# remove punctuation from each word\n",
    "import string\n",
    "table = str.maketrans('', '', string.punctuation)\n",
    "stripped = [w.translate(table) for w in tokens]\n",
    "\n",
    "# remove remaining tokens that are not alphabetic\n",
    "words = [word for word in stripped if word.isalpha()]\n",
    "\n",
    "# filter out stop words\n",
    "sw_list = ['months','year','years','com','linkedin','linkedin','comwww','india','new','technology','gmail']\n",
    "stopword =stopwords.words('english')\n",
    "#this helps in appending the code \n",
    "stopword.extend(sw_list)\n",
    "words = [w for w in words if not w in stopword]\n",
    "\n",
    "\n"
   ]
  },
  {
   "cell_type": "code",
   "execution_count": 12,
   "metadata": {},
   "outputs": [
    {
     "data": {
      "image/png": "[encoded data removed]",
      "text/plain": [
       "<Figure size 432x288 with 1 Axes>"
      ]
     },
     "metadata": {
      "needs_background": "light"
     },
     "output_type": "display_data"
    }
   ],
   "source": [
    "#this is graphical presentation of most used words\n",
    "\n",
    "fdist1 = FreqDist(words)\n",
    "# print (fdist1)\n",
    "fdist1.plot(10)"
   ]
  },
  {
   "cell_type": "code",
   "execution_count": null,
   "metadata": {},
   "outputs": [],
   "source": []
  }
 ],
 "metadata": {
  "kernelspec": {
   "display_name": "Python 3",
   "language": "python",
   "name": "python3"
  },
  "language_info": {
   "codemirror_mode": {
    "name": "ipython",
    "version": 3
   },
   "file_extension": ".py",
   "mimetype": "text/x-python",
   "name": "python",
   "nbconvert_exporter": "python",
   "pygments_lexer": "ipython3",
   "version": "3.7.3"
  }
 },
 "nbformat": 4,
 "nbformat_minor": 2
}
